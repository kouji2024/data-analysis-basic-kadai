{
  "nbformat": 4,
  "nbformat_minor": 0,
  "metadata": {
    "colab": {
      "provenance": []
    },
    "kernelspec": {
      "name": "python3",
      "display_name": "Python 3"
    },
    "language_info": {
      "name": "python"
    }
  },
  "cells": [
    {
      "cell_type": "code",
      "source": [
        "A = np.array([[0, 1], [2, 3], [4, 5]])\n",
        "B = np.array([[0, 1, 2, 3], [4, 5, 6, 7]])\n",
        "np.dot(A, B)\n",
        "result = np.dot(A, B)\n",
        "print(result)\n",
        "max_value = np.max(result)\n",
        "print(max_value)\n",
        "\n"
      ],
      "metadata": {
        "colab": {
          "base_uri": "https://localhost:8080/"
        },
        "id": "w8vNuQ_lOIbo",
        "outputId": "98c3e096-f55f-44f0-d6f2-77d396308111"
      },
      "execution_count": 11,
      "outputs": [
        {
          "output_type": "stream",
          "name": "stdout",
          "text": [
            "[[ 4  5  6  7]\n",
            " [12 17 22 27]\n",
            " [20 29 38 47]]\n",
            "47\n"
          ]
        }
      ]
    },
    {
      "cell_type": "code",
      "source": [
        "multi_array = np.array([[0, 1, 3, 4], [5, 6, 7, 8]])\n"
      ],
      "metadata": {
        "id": "eydJ2waGiMHg"
      },
      "execution_count": null,
      "outputs": []
    }
  ]
}